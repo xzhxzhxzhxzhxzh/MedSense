{
 "cells": [
  {
   "cell_type": "code",
   "execution_count": 14,
   "metadata": {},
   "outputs": [],
   "source": [
    "import json"
   ]
  },
  {
   "cell_type": "code",
   "execution_count": 15,
   "metadata": {},
   "outputs": [],
   "source": [
    "ann_file = \"/root/project/videoqa/inputs/annotations/val_annotations.json\""
   ]
  },
  {
   "cell_type": "code",
   "execution_count": 16,
   "metadata": {},
   "outputs": [],
   "source": [
    "with open(ann_file, \"r\") as f:\n",
    "    ann = json.load(f)\n",
    "\n",
    "output_json = {}\n",
    "eval_seq = list(ann[\"metadata\"].keys())\n",
    "for seq in eval_seq:\n",
    "    seq_data = {\n",
    "        \"duration\": ann[\"metadata\"][seq][\"duration\"],\n",
    "        \"timestamps\": [list(map(lambda x: int(x), elem[\"z\"])) for elem in ann[\"annotations\"][seq].values()],\n",
    "        \"sentences\": [elem[\"cap\"][0] for elem in ann[\"annotations\"][seq].values()]\n",
    "    }\n",
    "    output_json.update({seq: seq_data})\n",
    "\n",
    "with open(\"val_grounding.json\", \"w\") as f:\n",
    "    json.dump(output_json, f, indent=4)"
   ]
  },
  {
   "cell_type": "code",
   "execution_count": 17,
   "metadata": {},
   "outputs": [],
   "source": [
    "with open(\"val_grounding.json\", \"r\") as f:\n",
    "    ann_eval = json.load(f)\n",
    "\n",
    "output_json = {}\n",
    "for k, v in ann_eval.items():\n",
    "    para = \". \".join(v[\"sentences\"])\n",
    "    output_json[k] = para\n",
    "\n",
    "with open(\"val_para.json\", \"w\") as f:\n",
    "    json.dump(output_json, f, indent=4)"
   ]
  }
 ],
 "metadata": {
  "kernelspec": {
   "display_name": "cb_v1",
   "language": "python",
   "name": "python3"
  },
  "language_info": {
   "codemirror_mode": {
    "name": "ipython",
    "version": 3
   },
   "file_extension": ".py",
   "mimetype": "text/x-python",
   "name": "python",
   "nbconvert_exporter": "python",
   "pygments_lexer": "ipython3",
   "version": "3.11.9"
  }
 },
 "nbformat": 4,
 "nbformat_minor": 2
}
