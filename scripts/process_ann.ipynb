{
 "cells": [
  {
   "cell_type": "code",
   "execution_count": 1,
   "metadata": {},
   "outputs": [],
   "source": [
    "import os\n",
    "import cv2\n",
    "import json\n",
    "import random\n",
    "from collections import defaultdict\n",
    "import numpy as np\n",
    "\n",
    "random.seed(0)"
   ]
  },
  {
   "cell_type": "code",
   "execution_count": 2,
   "metadata": {},
   "outputs": [],
   "source": [
    "def get_video_duration(video_path):\n",
    "    try:\n",
    "        cap = cv2.VideoCapture(video_path)\n",
    "    except TypeError:\n",
    "        return None, None, None\n",
    "    if not cap.isOpened():\n",
    "        print(\"Error: Could not open video.\")\n",
    "        return None, None, None\n",
    "    fps = cap.get(cv2.CAP_PROP_FPS)\n",
    "    frame_count = int(cap.get(cv2.CAP_PROP_FRAME_COUNT))\n",
    "    duration = frame_count / fps\n",
    "    cap.release()\n",
    "    return frame_count, duration, fps"
   ]
  },
  {
   "cell_type": "code",
   "execution_count": 3,
   "metadata": {},
   "outputs": [],
   "source": [
    "dataset = \"test\"\n",
    "data_dir = f\"/root/project/videoqa/inputs/{dataset}_set\"\n",
    "gt_file = f\"/root/project/videoqa/inputs/MedVidQA/{dataset}.json\"\n",
    "max_frame_num = 16384\n",
    "\n",
    "data = os.listdir(data_dir)\n",
    "data = list(filter(lambda x: x.endswith(\".mp4\"), data))\n",
    "with open(gt_file, \"r\") as f:\n",
    "    ann = json.load(f)"
   ]
  },
  {
   "cell_type": "code",
   "execution_count": 4,
   "metadata": {},
   "outputs": [],
   "source": [
    "#---------------------------------------------------------------------------------------\n",
    "# metadata\n",
    "# --------------------------------------------------------------------------------------\n",
    "\n",
    "miss_files = []\n",
    "\n",
    "video_dict = {\n",
    "    elem[\"video_id\"]: {\n",
    "        \"video_name\": elem[\"video_id\"],\n",
    "        \"video_url\": elem[\"video_url\"],\n",
    "    } for elem in ann\n",
    "}\n",
    "for video_id, video_info in video_dict.items():\n",
    "    file_path = os.path.join(data_dir, video_id + \".mp4\")\n",
    "    if not os.path.isfile(file_path):\n",
    "        miss_files.append(video_id)\n",
    "        continue\n",
    "    frame_count, duration, fps = get_video_duration(file_path)\n",
    "    if frame_count is None:\n",
    "        miss_files.append(video_id)\n",
    "        continue\n",
    "    video_info[\"total_frames\"] = min(frame_count, max_frame_num)\n",
    "    video_info[\"duration\"] = min(duration, max_frame_num // fps)\n",
    "    video_info[\"fps\"] = fps\n",
    "for elem in miss_files:\n",
    "    video_dict.pop(elem)"
   ]
  },
  {
   "cell_type": "code",
   "execution_count": 5,
   "metadata": {},
   "outputs": [],
   "source": [
    "# ----------------------------------------------------------------------------------\n",
    "# annotation\n",
    "# ----------------------------------------------------------------------------------\n",
    "labels = defaultdict(dict)\n",
    "for elem in ann:\n",
    "    video_id = elem[\"video_id\"]\n",
    "    if video_id not in video_dict:\n",
    "        continue\n",
    "    max_duration = video_dict[video_id][\"duration\"]\n",
    "\n",
    "    sample_id = elem[\"sample_id\"]\n",
    "    cap = elem[\"question\"]\n",
    "    cap = cap.replace(\"   \", \" \")\n",
    "    cap = cap.replace(\"  \", \" \")\n",
    "\n",
    "    z0 = list(map(lambda x: int(x), elem[\"answer_start\"].split(\":\")))\n",
    "    z0 = 60 * z0[0] + z0[1]\n",
    "    z1 = list(map(lambda x: int(x), elem[\"answer_end\"].split(\":\")))\n",
    "    z1 = 60 * z1[0] + z1[1]\n",
    "    z = [z0, z1]\n",
    "    \n",
    "    if (z[0] >= max_duration) and (z[1] >= max_duration):\n",
    "        miss_files.append(video_id)\n",
    "        continue\n",
    "    z = np.clip(np.array(z), 0, max_duration).tolist()\n",
    "    if abs(z[1] - z[0]) < 10:\n",
    "        miss_files.append(video_id)\n",
    "        continue\n",
    "\n",
    "    ann_i = {\n",
    "        sample_id: {\n",
    "            \"z\": z,\n",
    "            \"cap\": [cap],\n",
    "        }\n",
    "    }\n",
    "    labels[video_id].update(ann_i)\n",
    "\n",
    "labels = dict(labels)"
   ]
  },
  {
   "cell_type": "code",
   "execution_count": 6,
   "metadata": {},
   "outputs": [],
   "source": [
    "for elem in miss_files:\n",
    "    video_dict.pop(elem, None)\n",
    "    labels.pop(elem, None)"
   ]
  },
  {
   "cell_type": "code",
   "execution_count": 7,
   "metadata": {},
   "outputs": [],
   "source": [
    "output_json = {\n",
    "    \"metadata\": video_dict,\n",
    "    \"annotations\": labels,\n",
    "}\n",
    "\n",
    "with open(f\"{dataset}_annotations.json\", \"w\") as f:\n",
    "    json.dump(output_json, f, indent=4)"
   ]
  },
  {
   "cell_type": "code",
   "execution_count": 8,
   "metadata": {},
   "outputs": [
    {
     "name": "stdout",
     "output_type": "stream",
     "text": [
      "2.475 1.6581239398790428\n"
     ]
    }
   ],
   "source": [
    "num_event = [len(v) for k, v in output_json[\"annotations\"].items()]\n",
    "print(np.mean(num_event), np.std(num_event))"
   ]
  }
 ],
 "metadata": {
  "kernelspec": {
   "display_name": "Python 3",
   "language": "python",
   "name": "python3"
  },
  "language_info": {
   "codemirror_mode": {
    "name": "ipython",
    "version": 3
   },
   "file_extension": ".py",
   "mimetype": "text/x-python",
   "name": "python",
   "nbconvert_exporter": "python",
   "pygments_lexer": "ipython3",
   "version": "3.10.14"
  }
 },
 "nbformat": 4,
 "nbformat_minor": 2
}
