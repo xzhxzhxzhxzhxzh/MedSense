{
 "cells": [
  {
   "cell_type": "code",
   "execution_count": 1,
   "metadata": {},
   "outputs": [],
   "source": [
    "import json\n",
    "from itertools import chain\n",
    "import string"
   ]
  },
  {
   "cell_type": "code",
   "execution_count": 2,
   "metadata": {},
   "outputs": [],
   "source": [
    "target_voca = \"\"\n",
    "ann_file = \"../inputs/annotations/train_annotations.json\""
   ]
  },
  {
   "cell_type": "code",
   "execution_count": 3,
   "metadata": {},
   "outputs": [
    {
     "name": "stdout",
     "output_type": "stream",
     "text": [
      "voca size: 1647\n"
     ]
    }
   ],
   "source": [
    "with open(ann_file, \"r\") as f:\n",
    "    ann = json.load(f)\n",
    "\n",
    "cap_list = [\n",
    "    label[\"cap\"]\n",
    "    for vid_ann in ann[\"annotations\"].values()\n",
    "    for label in vid_ann.values()\n",
    "]\n",
    "cap_list = list(chain(*cap_list))\n",
    "translator = str.maketrans('', '', string.punctuation)\n",
    "cap_list = list(map(lambda x: x.translate(translator), cap_list))\n",
    "\n",
    "word_list = list(map(lambda x: x.split(\" \"), cap_list))\n",
    "word_list = list(chain(*word_list))\n",
    "word_list = list(set(word_list))\n",
    "\n",
    "print(f\"voca size: {len(word_list)}\")"
   ]
  },
  {
   "cell_type": "code",
   "execution_count": 4,
   "metadata": {},
   "outputs": [
    {
     "name": "stdout",
     "output_type": "stream",
     "text": [
      "voca size: 1648\n"
     ]
    }
   ],
   "source": [
    "ix_to_word = {i: word for i, word in enumerate(word_list)}\n",
    "ix_to_word[len(ix_to_word)] = \"<unk>\"\n",
    "word_to_ix = dict(zip(ix_to_word.values(), ix_to_word.keys()))\n",
    "\n",
    "voca_dict = {\n",
    "    \"ix_to_word\": ix_to_word,\n",
    "    \"word_to_ix\": word_to_ix,\n",
    "}\n",
    "\n",
    "with open(\"medqa_voca_dict.json\", \"w\") as f:\n",
    "    json.dump(voca_dict, f, indent=4)\n",
    "\n",
    "print(f\"voca size: {len(ix_to_word)}\")"
   ]
  }
 ],
 "metadata": {
  "kernelspec": {
   "display_name": "cb_v1",
   "language": "python",
   "name": "python3"
  },
  "language_info": {
   "codemirror_mode": {
    "name": "ipython",
    "version": 3
   },
   "file_extension": ".py",
   "mimetype": "text/x-python",
   "name": "python",
   "nbconvert_exporter": "python",
   "pygments_lexer": "ipython3",
   "version": "3.11.9"
  }
 },
 "nbformat": 4,
 "nbformat_minor": 2
}
