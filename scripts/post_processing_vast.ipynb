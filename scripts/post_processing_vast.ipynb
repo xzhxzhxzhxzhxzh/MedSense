{
 "cells": [
  {
   "cell_type": "code",
   "execution_count": 1,
   "metadata": {},
   "outputs": [],
   "source": [
    "import os\n",
    "import json\n",
    "import numpy as np\n",
    "from tqdm import tqdm\n",
    "from collections import defaultdict"
   ]
  },
  {
   "cell_type": "code",
   "execution_count": 2,
   "metadata": {},
   "outputs": [],
   "source": [
    "vast_result = \"../captions_ann/vast_pred.json\"\n",
    "\n",
    "with open(vast_result, \"r\") as f:\n",
    "    cap_pred = json.load(f)\n",
    "\n",
    "cap_dict = defaultdict(list)\n",
    "for vid_name, cap in cap_pred.items():\n",
    "    vid_name, event_id = vid_name.rsplit(\"@\", 1)\n",
    "    vid_name = os.path.basename(vid_name).rsplit(\".mp4\", 1)[0]\n",
    "    cap_dict[vid_name].append((int(event_id), cap))\n",
    "\n",
    "for k, v in cap_dict.items():\n",
    "    v.sort(key=lambda x: x[0])\n",
    "\n",
    "cap_dict = dict(cap_dict)"
   ]
  },
  {
   "cell_type": "code",
   "execution_count": 3,
   "metadata": {},
   "outputs": [],
   "source": [
    "with open(\"post_predictions.json\", \"r\") as f:\n",
    "    post_predictions = json.load(f)\n",
    "\n",
    "for vid_name, predictions in post_predictions.items():\n",
    "    if vid_name not in cap_dict:\n",
    "        continue\n",
    "    for i in range(len(predictions)):\n",
    "        post_predictions[vid_name][i]['sentence'] = cap_dict[vid_name][i][-1]\n",
    "\n",
    "with open(\"post_predictions.json\", \"w\") as f:\n",
    "    json.dump(post_predictions, f, indent=4)"
   ]
  }
 ],
 "metadata": {
  "kernelspec": {
   "display_name": "cb_v1",
   "language": "python",
   "name": "python3"
  },
  "language_info": {
   "codemirror_mode": {
    "name": "ipython",
    "version": 3
   },
   "file_extension": ".py",
   "mimetype": "text/x-python",
   "name": "python",
   "nbconvert_exporter": "python",
   "pygments_lexer": "ipython3",
   "version": "3.11.9"
  }
 },
 "nbformat": 4,
 "nbformat_minor": 2
}
